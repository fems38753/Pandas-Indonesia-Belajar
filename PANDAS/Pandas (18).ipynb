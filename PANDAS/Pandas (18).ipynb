{
 "cells": [
  {
   "cell_type": "code",
   "execution_count": 1,
   "id": "494b4b80-f2cc-4b23-8c14-c71a190a0406",
   "metadata": {},
   "outputs": [
    {
     "name": "stdout",
     "output_type": "stream",
     "text": [
      "2.2.2\n"
     ]
    }
   ],
   "source": [
    "import pandas as pd\n",
    "\n",
    "print(pd.__version__)"
   ]
  },
  {
   "cell_type": "code",
   "execution_count": 3,
   "id": "8003e0eb-1bbd-42cf-8b81-bf1d2d9813fe",
   "metadata": {},
   "outputs": [
    {
     "data": {
      "text/html": [
       "<div>\n",
       "<style scoped>\n",
       "    .dataframe tbody tr th:only-of-type {\n",
       "        vertical-align: middle;\n",
       "    }\n",
       "\n",
       "    .dataframe tbody tr th {\n",
       "        vertical-align: top;\n",
       "    }\n",
       "\n",
       "    .dataframe thead th {\n",
       "        text-align: right;\n",
       "    }\n",
       "</style>\n",
       "<table border=\"1\" class=\"dataframe\">\n",
       "  <thead>\n",
       "    <tr style=\"text-align: right;\">\n",
       "      <th></th>\n",
       "      <th>nama</th>\n",
       "      <th>tempat_kelahiran</th>\n",
       "    </tr>\n",
       "  </thead>\n",
       "  <tbody>\n",
       "    <tr>\n",
       "      <th>0</th>\n",
       "      <td>Didi Kempot</td>\n",
       "      <td>Surakarta, Jawa Tengah</td>\n",
       "    </tr>\n",
       "    <tr>\n",
       "      <th>1</th>\n",
       "      <td>Glenn Fredly</td>\n",
       "      <td>Jakarta, DKI Jakarta</td>\n",
       "    </tr>\n",
       "    <tr>\n",
       "      <th>2</th>\n",
       "      <td>Mbah Surip</td>\n",
       "      <td>Mojokerto, Jawa Timur</td>\n",
       "    </tr>\n",
       "  </tbody>\n",
       "</table>\n",
       "</div>"
      ],
      "text/plain": [
       "           nama        tempat_kelahiran\n",
       "0   Didi Kempot  Surakarta, Jawa Tengah\n",
       "1  Glenn Fredly    Jakarta, DKI Jakarta\n",
       "2    Mbah Surip   Mojokerto, Jawa Timur"
      ]
     },
     "execution_count": 3,
     "metadata": {},
     "output_type": "execute_result"
    }
   ],
   "source": [
    "data = {'nama':['Didi Kempot', 'Glenn Fredly', 'Mbah Surip'], \n",
    "        'tempat_kelahiran':['Surakarta, Jawa Tengah', 'Jakarta, DKI Jakarta', 'Mojokerto, Jawa Timur']}\n",
    "df = pd.DataFrame(data)\n",
    "df"
   ]
  },
  {
   "cell_type": "code",
   "execution_count": 5,
   "id": "a119ba7f-df7a-42f1-8f40-46e76aa4fc3a",
   "metadata": {},
   "outputs": [
    {
     "data": {
      "text/html": [
       "<div>\n",
       "<style scoped>\n",
       "    .dataframe tbody tr th:only-of-type {\n",
       "        vertical-align: middle;\n",
       "    }\n",
       "\n",
       "    .dataframe tbody tr th {\n",
       "        vertical-align: top;\n",
       "    }\n",
       "\n",
       "    .dataframe thead th {\n",
       "        text-align: right;\n",
       "    }\n",
       "</style>\n",
       "<table border=\"1\" class=\"dataframe\">\n",
       "  <thead>\n",
       "    <tr style=\"text-align: right;\">\n",
       "      <th></th>\n",
       "      <th>nama</th>\n",
       "      <th>tempat_kelahiran</th>\n",
       "    </tr>\n",
       "  </thead>\n",
       "  <tbody>\n",
       "    <tr>\n",
       "      <th>0</th>\n",
       "      <td>Didi Kempot</td>\n",
       "      <td>Surakarta, Jawa Tengah</td>\n",
       "    </tr>\n",
       "    <tr>\n",
       "      <th>1</th>\n",
       "      <td>Glenn Fredly</td>\n",
       "      <td>Jakarta, DKI Jakarta</td>\n",
       "    </tr>\n",
       "    <tr>\n",
       "      <th>2</th>\n",
       "      <td>Mbah Surip</td>\n",
       "      <td>Mojokerto, Jawa Timur</td>\n",
       "    </tr>\n",
       "  </tbody>\n",
       "</table>\n",
       "</div>"
      ],
      "text/plain": [
       "           nama        tempat_kelahiran\n",
       "0   Didi Kempot  Surakarta, Jawa Tengah\n",
       "1  Glenn Fredly    Jakarta, DKI Jakarta\n",
       "2    Mbah Surip   Mojokerto, Jawa Timur"
      ]
     },
     "execution_count": 5,
     "metadata": {},
     "output_type": "execute_result"
    }
   ],
   "source": [
    "data = {'nama':['Didi Kempot', 'Glenn Fredly', 'Mbah Surip'], \n",
    "        'tempat_kelahiran':['Surakarta, Jawa Tengah', 'Jakarta, DKI Jakarta', 'Mojokerto, Jawa Timur']}\n",
    "df = pd.DataFrame(data)\n",
    "df"
   ]
  },
  {
   "cell_type": "code",
   "execution_count": 7,
   "id": "20b2aa94-5dc8-44ed-8d28-c008c44a72ea",
   "metadata": {},
   "outputs": [
    {
     "data": {
      "text/html": [
       "<div>\n",
       "<style scoped>\n",
       "    .dataframe tbody tr th:only-of-type {\n",
       "        vertical-align: middle;\n",
       "    }\n",
       "\n",
       "    .dataframe tbody tr th {\n",
       "        vertical-align: top;\n",
       "    }\n",
       "\n",
       "    .dataframe thead th {\n",
       "        text-align: right;\n",
       "    }\n",
       "</style>\n",
       "<table border=\"1\" class=\"dataframe\">\n",
       "  <thead>\n",
       "    <tr style=\"text-align: right;\">\n",
       "      <th></th>\n",
       "      <th>nama</th>\n",
       "      <th>tempat_kelahiran</th>\n",
       "      <th>kota</th>\n",
       "      <th>propinsi</th>\n",
       "    </tr>\n",
       "  </thead>\n",
       "  <tbody>\n",
       "    <tr>\n",
       "      <th>0</th>\n",
       "      <td>Didi Kempot</td>\n",
       "      <td>Surakarta, Jawa Tengah</td>\n",
       "      <td>Surakarta</td>\n",
       "      <td>Jawa Tengah</td>\n",
       "    </tr>\n",
       "    <tr>\n",
       "      <th>1</th>\n",
       "      <td>Glenn Fredly</td>\n",
       "      <td>Jakarta, DKI Jakarta</td>\n",
       "      <td>Jakarta</td>\n",
       "      <td>DKI Jakarta</td>\n",
       "    </tr>\n",
       "    <tr>\n",
       "      <th>2</th>\n",
       "      <td>Mbah Surip</td>\n",
       "      <td>Mojokerto, Jawa Timur</td>\n",
       "      <td>Mojokerto</td>\n",
       "      <td>Jawa Timur</td>\n",
       "    </tr>\n",
       "  </tbody>\n",
       "</table>\n",
       "</div>"
      ],
      "text/plain": [
       "           nama        tempat_kelahiran       kota      propinsi\n",
       "0   Didi Kempot  Surakarta, Jawa Tengah  Surakarta   Jawa Tengah\n",
       "1  Glenn Fredly    Jakarta, DKI Jakarta    Jakarta   DKI Jakarta\n",
       "2    Mbah Surip   Mojokerto, Jawa Timur  Mojokerto    Jawa Timur"
      ]
     },
     "execution_count": 7,
     "metadata": {},
     "output_type": "execute_result"
    }
   ],
   "source": [
    "df[['kota', 'propinsi']] = df['tempat_kelahiran'].str.split(',', expand=True)\n",
    "df"
   ]
  },
  {
   "cell_type": "code",
   "execution_count": null,
   "id": "aba81692-12d2-4a4a-8389-cac60f68f925",
   "metadata": {},
   "outputs": [],
   "source": []
  }
 ],
 "metadata": {
  "kernelspec": {
   "display_name": "Python 3 (ipykernel)",
   "language": "python",
   "name": "python3"
  },
  "language_info": {
   "codemirror_mode": {
    "name": "ipython",
    "version": 3
   },
   "file_extension": ".py",
   "mimetype": "text/x-python",
   "name": "python",
   "nbconvert_exporter": "python",
   "pygments_lexer": "ipython3",
   "version": "3.12.3"
  }
 },
 "nbformat": 4,
 "nbformat_minor": 5
}
