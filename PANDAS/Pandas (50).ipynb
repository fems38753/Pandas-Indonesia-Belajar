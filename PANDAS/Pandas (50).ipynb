{
 "cells": [
  {
   "cell_type": "code",
   "execution_count": 2,
   "id": "840de4ed-7041-4bb4-b829-d15d9cacb857",
   "metadata": {},
   "outputs": [
    {
     "name": "stdout",
     "output_type": "stream",
     "text": [
      "2.2.2\n"
     ]
    }
   ],
   "source": [
    "import pandas as pd\n",
    "\n",
    "print(pd.__version__)"
   ]
  },
  {
   "cell_type": "code",
   "execution_count": 4,
   "id": "02a594ef-b996-4ba1-8e11-6e2389f67fb5",
   "metadata": {},
   "outputs": [
    {
     "data": {
      "text/html": [
       "<div>\n",
       "<style scoped>\n",
       "    .dataframe tbody tr th:only-of-type {\n",
       "        vertical-align: middle;\n",
       "    }\n",
       "\n",
       "    .dataframe tbody tr th {\n",
       "        vertical-align: top;\n",
       "    }\n",
       "\n",
       "    .dataframe thead th {\n",
       "        text-align: right;\n",
       "    }\n",
       "</style>\n",
       "<table border=\"1\" class=\"dataframe\">\n",
       "  <thead>\n",
       "    <tr style=\"text-align: right;\">\n",
       "      <th></th>\n",
       "      <th>nama</th>\n",
       "      <th>ipk</th>\n",
       "    </tr>\n",
       "  </thead>\n",
       "  <tbody>\n",
       "    <tr>\n",
       "      <th>0</th>\n",
       "      <td>bejo</td>\n",
       "      <td>2</td>\n",
       "    </tr>\n",
       "    <tr>\n",
       "      <th>1</th>\n",
       "      <td>tejo</td>\n",
       "      <td>3</td>\n",
       "    </tr>\n",
       "    <tr>\n",
       "      <th>2</th>\n",
       "      <td>wati</td>\n",
       "      <td>3</td>\n",
       "    </tr>\n",
       "    <tr>\n",
       "      <th>3</th>\n",
       "      <td>tiwi</td>\n",
       "      <td>2.75</td>\n",
       "    </tr>\n",
       "    <tr>\n",
       "      <th>4</th>\n",
       "      <td>cecep</td>\n",
       "      <td>3.25</td>\n",
       "    </tr>\n",
       "  </tbody>\n",
       "</table>\n",
       "</div>"
      ],
      "text/plain": [
       "    nama   ipk\n",
       "0   bejo     2\n",
       "1   tejo     3\n",
       "2   wati     3\n",
       "3   tiwi  2.75\n",
       "4  cecep  3.25"
      ]
     },
     "execution_count": 4,
     "metadata": {},
     "output_type": "execute_result"
    }
   ],
   "source": [
    "d = {'nama':['bejo', 'tejo', 'wati', 'tiwi', 'cecep'], \n",
    "     'ipk':[2, '3', 3, 2.75, '3.25']}\n",
    "df = pd.DataFrame(d)\n",
    "df"
   ]
  },
  {
   "cell_type": "code",
   "execution_count": 6,
   "id": "7ffd1d7f-e2d9-4f0f-a549-24a2aac2036b",
   "metadata": {},
   "outputs": [
    {
     "data": {
      "text/plain": [
       "nama    object\n",
       "ipk     object\n",
       "dtype: object"
      ]
     },
     "execution_count": 6,
     "metadata": {},
     "output_type": "execute_result"
    }
   ],
   "source": [
    "df.dtypes"
   ]
  },
  {
   "cell_type": "code",
   "execution_count": 8,
   "id": "5bf0d8aa-95c1-4de9-8b41-63bbbf1c0076",
   "metadata": {},
   "outputs": [
    {
     "data": {
      "text/plain": [
       "0      <class 'int'>\n",
       "1      <class 'str'>\n",
       "2      <class 'int'>\n",
       "3    <class 'float'>\n",
       "4      <class 'str'>\n",
       "Name: ipk, dtype: object"
      ]
     },
     "execution_count": 8,
     "metadata": {},
     "output_type": "execute_result"
    }
   ],
   "source": [
    "df['ipk'].apply(type)"
   ]
  },
  {
   "cell_type": "code",
   "execution_count": 10,
   "id": "b35d27de-223b-41fd-86a6-18d5a9d3505b",
   "metadata": {},
   "outputs": [
    {
     "data": {
      "text/plain": [
       "ipk\n",
       "<class 'int'>      2\n",
       "<class 'str'>      2\n",
       "<class 'float'>    1\n",
       "Name: count, dtype: int64"
      ]
     },
     "execution_count": 10,
     "metadata": {},
     "output_type": "execute_result"
    }
   ],
   "source": [
    "df['ipk'].apply(type).value_counts()"
   ]
  },
  {
   "cell_type": "code",
   "execution_count": 12,
   "id": "f9f2c829-91c2-4820-92da-73eed9951c4b",
   "metadata": {},
   "outputs": [],
   "source": [
    "df['ipk'] = df['ipk'].astype(float)"
   ]
  },
  {
   "cell_type": "code",
   "execution_count": 14,
   "id": "533886d8-aa8d-4f77-aa33-030afe7dc4c0",
   "metadata": {},
   "outputs": [
    {
     "data": {
      "text/plain": [
       "ipk\n",
       "<class 'float'>    5\n",
       "Name: count, dtype: int64"
      ]
     },
     "execution_count": 14,
     "metadata": {},
     "output_type": "execute_result"
    }
   ],
   "source": [
    "df['ipk'].apply(type).value_counts()"
   ]
  },
  {
   "cell_type": "code",
   "execution_count": null,
   "id": "1cf47f31-0aa1-4789-a41f-ded90f6b8f26",
   "metadata": {},
   "outputs": [],
   "source": []
  }
 ],
 "metadata": {
  "kernelspec": {
   "display_name": "Python 3 (ipykernel)",
   "language": "python",
   "name": "python3"
  },
  "language_info": {
   "codemirror_mode": {
    "name": "ipython",
    "version": 3
   },
   "file_extension": ".py",
   "mimetype": "text/x-python",
   "name": "python",
   "nbconvert_exporter": "python",
   "pygments_lexer": "ipython3",
   "version": "3.12.3"
  }
 },
 "nbformat": 4,
 "nbformat_minor": 5
}
